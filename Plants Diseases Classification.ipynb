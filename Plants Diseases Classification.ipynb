{
 "cells": [
  {
   "cell_type": "markdown",
   "id": "4d4dc181-1cc9-4bdd-9b06-9c2fc9cd0108",
   "metadata": {},
   "source": [
    "Plants Diseases Classification Model :"
   ]
  },
  {
   "cell_type": "code",
   "execution_count": 4,
   "id": "cc0f4f0d-8ca2-4e93-bb7d-c29372deddd7",
   "metadata": {},
   "outputs": [],
   "source": [
    "# Used Libraries & Independences :\n",
    "import tensorflow as tf\n",
    "from tensorflow.keras import models, layers\n",
    "import matplotlib.pyplot as plt"
   ]
  },
  {
   "cell_type": "code",
   "execution_count": 3,
   "id": "4ca53b3f-3b55-4fbb-ac29-7d391f4486ad",
   "metadata": {},
   "outputs": [],
   "source": [
    "# Our Dataset Properities :\n",
    "image_size = 256\n",
    "images_batch = 32"
   ]
  },
  {
   "cell_type": "code",
   "execution_count": null,
   "id": "97c67c9a-e1a4-4dd0-a734-686b949cb16a",
   "metadata": {},
   "outputs": [],
   "source": [
    "# Dataset Ingestion :\n",
    "dataset = tf.keras.preprocessing.image_dataset_from_directory(\n",
    "    \"\"\n",
    ")"
   ]
  }
 ],
 "metadata": {
  "kernelspec": {
   "display_name": "Python 3 (ipykernel)",
   "language": "python",
   "name": "python3"
  },
  "language_info": {
   "codemirror_mode": {
    "name": "ipython",
    "version": 3
   },
   "file_extension": ".py",
   "mimetype": "text/x-python",
   "name": "python",
   "nbconvert_exporter": "python",
   "pygments_lexer": "ipython3",
   "version": "3.11.7"
  }
 },
 "nbformat": 4,
 "nbformat_minor": 5
}
